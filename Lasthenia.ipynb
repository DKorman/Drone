{
 "cells": [
  {
   "cell_type": "markdown",
   "metadata": {},
   "source": [
    "# Find Flower Pixels of a Given Color"
   ]
  },
  {
   "cell_type": "markdown",
   "metadata": {},
   "source": [
    "Define Function"
   ]
  },
  {
   "cell_type": "code",
   "execution_count": 111,
   "metadata": {
    "collapsed": false
   },
   "outputs": [],
   "source": [
    "#!/usr/bin/env python\n",
    "\n",
    "import cv2\n",
    "import numpy as np\n",
    "import time\n",
    "import os\n",
    "import sfunc\n",
    "import glob\n",
    "          \n",
    "###Create photo class with sensible defaults\n",
    "\n",
    "class photo:\n",
    "\n",
    "        def __init__(self,f):                  \n",
    "                self.img=cv2.imread(f)\n",
    "                sfunc.cView(self.img)                \n",
    "                \n",
    "        def count(self):\n",
    "                ###Cluster images\n",
    "                #threshold colors\n",
    "                \n",
    "                ##what is a flower color? Its somewhere between white and red\n",
    "                ## i googled these colors\n",
    "                YELLOW_MIN = np.array([30, 120, 200],np.uint8)\n",
    "                YELLOW_MAX = np.array([32, 255, 255],np.uint8)\n",
    "                \n",
    "                frame_threshed = cv2.inRange(src=self.img, lowerb=YELLOW_MIN, upperb=YELLOW_MAX)\n",
    "                \n",
    "                #view segmented imaged\n",
    "                cropthresh=cv2.bitwise_and(self.img,self.img,mask=frame_threshed)\n",
    "                sfunc.cView(cropthresh)\n",
    "                \n",
    "                #morphology - opening\n",
    "                kernel = np.ones((50,50),np.uint8)\n",
    "                opening = cv2.morphologyEx(frame_threshed, cv2.MORPH_DILATE, kernel)\n",
    "                sfunc.cView(opening)\n",
    "\n",
    "                # count number of clusters\n",
    "                image, contours, hierarchy = cv2.findContours(opening,cv2.RETR_EXTERNAL,cv2.CHAIN_APPROX_SIMPLE)\n",
    "                \n",
    "                #draw clusters on a copy of the original image \n",
    "                cropcopy=self.img.copy()\n",
    "                \n",
    "                print(len(contours))\n",
    "                \n",
    "                for cnt in contours:\n",
    "                    cv2.drawContours(cropcopy, contours, -1, (0,0,255),5)\n",
    "                sfunc.cView(cropcopy)\n",
    "                \n",
    "                sumarea=[]\n",
    "                for cnt in contours:\n",
    "                    sumarea.append(cv2.contourArea(cnt))\n",
    "                return(sumarea)"
   ]
  },
  {
   "cell_type": "markdown",
   "metadata": {},
   "source": [
    "# Gather input photos"
   ]
  },
  {
   "cell_type": "code",
   "execution_count": 112,
   "metadata": {
    "collapsed": false
   },
   "outputs": [],
   "source": [
    "p=glob.glob(\"TestPhotos/*\")"
   ]
  },
  {
   "cell_type": "code",
   "execution_count": 113,
   "metadata": {
    "collapsed": false
   },
   "outputs": [
    {
     "name": "stdout",
     "output_type": "stream",
     "text": [
      "222\n",
      "8237983.5\n",
      "296\n",
      "4232223.5\n",
      "212\n",
      "6613248.5\n",
      "244\n",
      "1427764.5\n"
     ]
    }
   ],
   "source": [
    "for photos in p:\n",
    "    pr=photo(photos)\n",
    "    print(sum(pr.count()))"
   ]
  },
  {
   "cell_type": "code",
   "execution_count": 104,
   "metadata": {
    "collapsed": false
   },
   "outputs": [
    {
     "data": {
      "text/plain": [
       "['TestPhotos\\\\DJI01412.JPG',\n",
       " 'TestPhotos\\\\DJI01413.tif',\n",
       " 'TestPhotos\\\\DJI01416.tif',\n",
       " 'TestPhotos\\\\DJI01452.tif']"
      ]
     },
     "execution_count": 104,
     "metadata": {},
     "output_type": "execute_result"
    }
   ],
   "source": [
    "p"
   ]
  },
  {
   "cell_type": "code",
   "execution_count": null,
   "metadata": {
    "collapsed": false
   },
   "outputs": [],
   "source": []
  },
  {
   "cell_type": "code",
   "execution_count": null,
   "metadata": {
    "collapsed": true
   },
   "outputs": [],
   "source": []
  }
 ],
 "metadata": {
  "kernelspec": {
   "display_name": "Python 2",
   "language": "python",
   "name": "python2"
  },
  "language_info": {
   "codemirror_mode": {
    "name": "ipython",
    "version": 2
   },
   "file_extension": ".py",
   "mimetype": "text/x-python",
   "name": "python",
   "nbconvert_exporter": "python",
   "pygments_lexer": "ipython2",
   "version": "2.7.11"
  }
 },
 "nbformat": 4,
 "nbformat_minor": 0
}
